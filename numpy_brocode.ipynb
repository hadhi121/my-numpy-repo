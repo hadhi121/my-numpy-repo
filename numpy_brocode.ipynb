{
 "cells": [
  {
   "cell_type": "code",
   "execution_count": 1,
   "id": "90bd393d",
   "metadata": {},
   "outputs": [
    {
     "name": "stdout",
     "output_type": "stream",
     "text": [
      "3\n",
      "(3, 3, 3)\n",
      "A\n",
      "Z\n"
     ]
    }
   ],
   "source": [
    "import numpy as np\n",
    "\n",
    "array = np.array([[['A','B','C'],['D','E','F'],['G','H','I']],\n",
    "                  [['J','K','L'],['M','N','O'],['P','Q','R']],\n",
    "                  [['S','T','U'],['V','W','X'],['Y','Z','_']]])\n",
    "\n",
    "print(array.ndim)\n",
    "print(array.shape)#(3, 3, 3) = 3 blocks, 3 rows, 3 columns\n",
    "print(array[0, 0, 0])#this is multi dimensional indexing.in list we use chain indexing([][][]) but in numpy we use comma to separate the indexes of different dimensions.\n",
    "print(array[2,2,1])"
   ]
  },
  {
   "cell_type": "code",
   "execution_count": 2,
   "id": "ac205a27",
   "metadata": {},
   "outputs": [
    {
     "name": "stdout",
     "output_type": "stream",
     "text": [
      "HADHI\n"
     ]
    }
   ],
   "source": [
    "word = array[0,2,1] + array[0,0,0] + array[0,1,0] + array[0,2,1] + array[0,2,2] \n",
    "print(word)"
   ]
  },
  {
   "cell_type": "code",
   "execution_count": 3,
   "id": "641bd068",
   "metadata": {},
   "outputs": [
    {
     "name": "stdout",
     "output_type": "stream",
     "text": [
      "(4, 4)\n",
      "[['1' '2' '3' '4']\n",
      " ['5' '6' '7' '8']\n",
      " ['9' '10' '11' '12']]\n",
      "[['13' '14' '15' '16']\n",
      " ['5' '6' '7' '8']]\n"
     ]
    }
   ],
   "source": [
    "array = np.array([['1','2','3','4'],\n",
    "                  ['5','6','7','8'],\n",
    "                  ['9','10','11','12'],\n",
    "                  ['13','14','15','16']])\n",
    "print(array.shape)#(4, 4) = 4 rows, 4 columns\n",
    "\n",
    "# array[start:end:step] = slicing by rows\n",
    "print(array[:3])#select everything from the start to index 3 but not including index 3\n",
    "print(array[::-2])#select everything from the start to the end with a step of -2\n",
    "\n"
   ]
  },
  {
   "cell_type": "code",
   "execution_count": 4,
   "id": "b8bfffca",
   "metadata": {},
   "outputs": [
    {
     "name": "stdout",
     "output_type": "stream",
     "text": [
      "[['1' '3']\n",
      " ['5' '7']\n",
      " ['9' '11']\n",
      " ['13' '15']]\n",
      "2nd = [['1' '2']\n",
      " ['5' '6']]\n"
     ]
    }
   ],
   "source": [
    "#slicing by columns and rows\n",
    "print(array[:,::2])#select everything from the start to the end with a step of 2\n",
    "print(f'2nd = {array[0:2,0:2]}')\n",
    "\n"
   ]
  },
  {
   "cell_type": "code",
   "execution_count": 5,
   "id": "df05c407",
   "metadata": {},
   "outputs": [
    {
     "name": "stdout",
     "output_type": "stream",
     "text": [
      "1st = [['3' '4']\n",
      " ['7' '8']]\n",
      "2nd = [['9' '10']\n",
      " ['13' '14']]\n"
     ]
    }
   ],
   "source": [
    "print(f'1st = {array[0:2,2:]}')\n",
    "print(f'2nd = {array[2: , :2]}')"
   ]
  },
  {
   "cell_type": "markdown",
   "id": "8f89eedf",
   "metadata": {},
   "source": [
    "# ARITHMETIC"
   ]
  },
  {
   "cell_type": "code",
   "execution_count": 6,
   "id": "9406b6cf",
   "metadata": {},
   "outputs": [
    {
     "name": "stdout",
     "output_type": "stream",
     "text": [
      "[-1  0  1] [3 6 9] [0.25 0.5  0.75]\n",
      "[1 4 9]\n"
     ]
    }
   ],
   "source": [
    "#scalar arithmetic - linear algebra term(single value)\n",
    "array = np.array([1,2,3])\n",
    "\n",
    "print(array - 2, array * 3 , array / 4)\n",
    "print(array ** 2)\n"
   ]
  },
  {
   "cell_type": "code",
   "execution_count": 7,
   "id": "22e9fe6d",
   "metadata": {},
   "outputs": [
    {
     "name": "stdout",
     "output_type": "stream",
     "text": [
      "[1.00498756 1.58113883 1.99749844]\n",
      "[1. 2. 4.]\n",
      "3.141592653589793\n"
     ]
    }
   ],
   "source": [
    "#vactorized algebra term\n",
    "array = np.array([1.01,2.5,3.99])\n",
    "\n",
    "print(np.sqrt(array))#to find sqrt of array elements\n",
    "print(np.round(array))#to round array elements.to round down use floor() and use round up use ceil().\n",
    "print(np.pi)"
   ]
  },
  {
   "cell_type": "code",
   "execution_count": 8,
   "id": "dcfed447",
   "metadata": {},
   "outputs": [
    {
     "name": "stdout",
     "output_type": "stream",
     "text": [
      "[ 3. 13. 28.]\n"
     ]
    }
   ],
   "source": [
    "radii = np.array([1,2,3])#we convert each radius into area of circle\n",
    "\n",
    "formula = np.pi * radii ** 2\n",
    "print(np.round(formula))\n"
   ]
  },
  {
   "cell_type": "code",
   "execution_count": 9,
   "id": "86dc2367",
   "metadata": {},
   "outputs": [
    {
     "name": "stdout",
     "output_type": "stream",
     "text": [
      "[0.25 0.4  0.5 ]\n",
      "[-3 -3 -3]\n",
      "[ 4 10 18]\n",
      "[  1  32 729]\n"
     ]
    }
   ],
   "source": [
    "#element wise arithmetic.each operation is element by element b/w two arrays\n",
    "\n",
    "array1 = np.array([1,2,3])\n",
    "array2 = np.array([4,5,6])\n",
    "\n",
    "print(array1 / array2)\n",
    "print(array1 - array2)\n",
    "print(array1 * array2)\n",
    "print(array1 ** array2)\n"
   ]
  },
  {
   "cell_type": "code",
   "execution_count": 10,
   "id": "525241f3",
   "metadata": {},
   "outputs": [
    {
     "name": "stdout",
     "output_type": "stream",
     "text": [
      "[ True False  True  True  True  True]\n",
      "[False False  True False False False]\n",
      "[ 91   0 100  73  82  64]\n"
     ]
    }
   ],
   "source": [
    "#Comparison operators\n",
    "\n",
    "scores = np.array([91,55,100,73,82,64])\n",
    "\n",
    "print(scores > 60)\n",
    "print(scores == 100)\n",
    "\n",
    "scores[scores < 60] = 0\n",
    "print(scores)"
   ]
  },
  {
   "cell_type": "markdown",
   "id": "76b08a05",
   "metadata": {},
   "source": [
    "#### BROADCASTING"
   ]
  },
  {
   "cell_type": "code",
   "execution_count": 11,
   "id": "6722a3bb",
   "metadata": {},
   "outputs": [
    {
     "name": "stdout",
     "output_type": "stream",
     "text": [
      "(4, 4)\n",
      "(4, 1)\n",
      "[[ 1  2  3  4]\n",
      " [10 12 14 16]\n",
      " [27 30 33 36]\n",
      " [52 56 60 64]]\n"
     ]
    }
   ],
   "source": [
    "'''broadcasting allows numpy to perform operations on arrays with different\n",
    " shapes by virtually expanding dimensions so they\n",
    "match the larger array's shape. '''\n",
    "'''The dimensions should have same number \n",
    "                OR\n",
    "    One of the dimensions has a size of 1.we read dimensions from right to left'''\n",
    "\n",
    "array1 = np.array([[1,2,3,4],\n",
    "                   [5,6,7,8],\n",
    "                   [9,10,11,12],\n",
    "                   [13,14,15,16]])#2D array with 4 row and 4 column\n",
    "array2 = np.array(          [[1],\n",
    "                             [2],\n",
    "                             [3],\n",
    "                             [4]])#2D array with 4 rows but 1 column\n",
    "\n",
    "print(array1.shape)\n",
    "print(array2.shape)\n",
    "\n",
    "print(array1 * array2)#we now have 4 rows and 4 cols\n"
   ]
  },
  {
   "cell_type": "code",
   "execution_count": 12,
   "id": "d58a847b",
   "metadata": {},
   "outputs": [
    {
     "name": "stdout",
     "output_type": "stream",
     "text": [
      "(1, 10)\n",
      "(10, 1)\n",
      "[[  1   2   3   4   5   6   7   8   9  10]\n",
      " [  2   4   6   8  10  12  14  16  18  20]\n",
      " [  3   6   9  12  15  18  21  24  27  30]\n",
      " [  4   8  12  16  20  24  28  32  36  40]\n",
      " [  5  10  15  20  25  30  35  40  45  50]\n",
      " [  6  12  18  24  30  36  42  48  54  60]\n",
      " [  7  14  21  28  35  42  49  56  63  70]\n",
      " [  8  16  24  32  40  48  56  64  72  80]\n",
      " [  9  18  27  36  45  54  63  72  81  90]\n",
      " [ 10  20  30  40  50  60  70  80  90 100]]\n"
     ]
    }
   ],
   "source": [
    "array1 = np.array([[1,2,3,4,5,6,7,8,9,10]])#1 row 10 col\n",
    "array2 = np.array([[1],[2],[3],[4],[5],[6],[7],[8],[9],[10]])#10 row 1 col\n",
    "\n",
    "print(array1.shape)\n",
    "print(array2.shape)\n",
    "print(array1 * array2)"
   ]
  },
  {
   "cell_type": "markdown",
   "id": "7545ef0d",
   "metadata": {},
   "source": [
    "### aggregate functions"
   ]
  },
  {
   "cell_type": "code",
   "execution_count": 13,
   "id": "7f3a91df",
   "metadata": {},
   "outputs": [
    {
     "name": "stdout",
     "output_type": "stream",
     "text": [
      "10\n",
      "9\n",
      "[ 7  9 11 13 15]\n"
     ]
    }
   ],
   "source": [
    "# Aggregate functions - summarize data and typically return a single value\n",
    "\n",
    "array1 = np.array([[1,2,3,4,5],\n",
    "                   [6,7,8,9,10]])\n",
    "#print(np.sum(array1))\n",
    "#print(np.mean(array1))\n",
    "#print(np.std(array1)) measure of spread within our data\n",
    "#print(np.var(array1)) square of std\n",
    "print(np.max(array1))\n",
    "print(np.argmax(array1)) #position of maximum value\n",
    "print(np.sum(array1, axis = 0))#0 will take col and return sum of cols"
   ]
  },
  {
   "cell_type": "markdown",
   "id": "610e0e51",
   "metadata": {},
   "source": [
    "### FILTERING"
   ]
  },
  {
   "cell_type": "code",
   "execution_count": 14,
   "id": "ed331257",
   "metadata": {},
   "outputs": [
    {
     "name": "stdout",
     "output_type": "stream",
     "text": [
      "[17 16 15]\n",
      "[21 19 20 30 18 39 22 18 19 20 21]\n",
      "[65 99]\n",
      "[20 16 30 18 22 18 20]\n"
     ]
    }
   ],
   "source": [
    "'''filtering = Refers to the process of selecting elements\n",
    "               that match a given condition'''\n",
    "\n",
    "ages = np.array([[21,17,19,20,16,30,18,65],\n",
    "                 [39,22,15,99,18,19,20,21]])\n",
    "\n",
    "teenagers = ages[ages < 18]\n",
    "adults = ages[(ages >= 18) & (ages < 65)]\n",
    "seniors = ages[ages >= 65]\n",
    "evens = ages[ages % 2 == 0]\n",
    "\n",
    "print(teenagers)\n",
    "print(adults)#boolean indexing will change the shape\n",
    "print(seniors)\n",
    "print(evens)"
   ]
  },
  {
   "cell_type": "code",
   "execution_count": 15,
   "id": "ef981e43",
   "metadata": {},
   "outputs": [
    {
     "name": "stdout",
     "output_type": "stream",
     "text": [
      "[[21. nan 19. 20. nan 30. 18. 65.]\n",
      " [39. 22. nan 99. 18. 19. 20. 21.]]\n"
     ]
    }
   ],
   "source": [
    "#using to preserve the shape of our array\n",
    "adults = np.where(ages >= 18,ages , np.nan)#use -1 or np.nan or whatever..np.where(condition,array,fill_val)\n",
    "print(adults)"
   ]
  },
  {
   "cell_type": "markdown",
   "id": "17a928ea",
   "metadata": {},
   "source": [
    "### random numbers"
   ]
  },
  {
   "cell_type": "code",
   "execution_count": 16,
   "id": "546adf5a",
   "metadata": {},
   "outputs": [
    {
     "name": "stdout",
     "output_type": "stream",
     "text": [
      "[[48 52]\n",
      " [76 96]\n",
      " [ 4 15]]\n"
     ]
    }
   ],
   "source": [
    "rng = np.random.default_rng(seed=1)#setting a seed is useful for creating same results\n",
    "print(rng.integers(low = 1,high = 101, size = (3,2)))"
   ]
  },
  {
   "cell_type": "code",
   "execution_count": 17,
   "id": "3a90b0c4",
   "metadata": {},
   "outputs": [
    {
     "name": "stdout",
     "output_type": "stream",
     "text": [
      "[[ 4.6803849   5.27734346]\n",
      " [-0.68678351  0.88673822]]\n"
     ]
    }
   ],
   "source": [
    "np.random.seed(seed = 101)\n",
    "print(np.random.uniform(-1,10,(2,2)))#uniform distribution(0 to 1)"
   ]
  },
  {
   "cell_type": "code",
   "execution_count": 18,
   "id": "9a3257fb",
   "metadata": {},
   "outputs": [
    {
     "name": "stdout",
     "output_type": "stream",
     "text": [
      "[3 2 4 1 5]\n",
      "['pineapple' 'orange' 'coconut']\n"
     ]
    }
   ],
   "source": [
    "rng = np.random.default_rng()\n",
    "\n",
    "array = np.array([1,2,3,4,5])\n",
    "rng.shuffle(array) #shuffle\n",
    "print(array)\n",
    "\n",
    "fruits = np.array(['apple','orange','banana','coconut','pineapple'])\n",
    "fruit = rng.choice(fruits,size = 3) #choice\n",
    "print(fruit)"
   ]
  },
  {
   "cell_type": "code",
   "execution_count": null,
   "id": "8a927846",
   "metadata": {},
   "outputs": [],
   "source": []
  },
  {
   "cell_type": "code",
   "execution_count": null,
   "id": "1c43ed75",
   "metadata": {},
   "outputs": [],
   "source": []
  }
 ],
 "metadata": {
  "kernelspec": {
   "display_name": "base",
   "language": "python",
   "name": "python3"
  },
  "language_info": {
   "codemirror_mode": {
    "name": "ipython",
    "version": 3
   },
   "file_extension": ".py",
   "mimetype": "text/x-python",
   "name": "python",
   "nbconvert_exporter": "python",
   "pygments_lexer": "ipython3",
   "version": "3.13.5"
  }
 },
 "nbformat": 4,
 "nbformat_minor": 5
}
