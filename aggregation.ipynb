{
 "cells": [
  {
   "cell_type": "code",
   "execution_count": 4,
   "id": "f38d4ddb",
   "metadata": {},
   "outputs": [
    {
     "name": "stdout",
     "output_type": "stream",
     "text": [
      "No           11325.0\n",
      "Height         180.0\n",
      "Weight        6934.7\n",
      "Legendary        4.0\n",
      "dtype: float64\n",
      "No           75.500000\n",
      "Height        1.200000\n",
      "Weight       46.231333\n",
      "Legendary     0.026667\n",
      "dtype: float64\n"
     ]
    }
   ],
   "source": [
    "import pandas as pd\n",
    "df = pd.read_csv('pokemon.csv')\n",
    "\n",
    "#aggregate fn = reduces a set of values into a single summary values\n",
    "#              Used to summarize and analyze data\n",
    "#             often used with the groupby() fn\n",
    "\n",
    "\n",
    "print(df.sum(numeric_only=True))\n",
    "print(df.mean(numeric_only=True))"
   ]
  },
  {
   "cell_type": "code",
   "execution_count": 2,
   "id": "285b8447",
   "metadata": {},
   "outputs": [
    {
     "name": "stdout",
     "output_type": "stream",
     "text": [
      "No           1.0\n",
      "Height       0.2\n",
      "Weight       0.1\n",
      "Legendary    0.0\n",
      "dtype: float64\n"
     ]
    }
   ],
   "source": [
    "print(df.min(numeric_only=True))"
   ]
  },
  {
   "cell_type": "code",
   "execution_count": 3,
   "id": "52068cc4",
   "metadata": {},
   "outputs": [
    {
     "name": "stdout",
     "output_type": "stream",
     "text": [
      "No           150\n",
      "Name         150\n",
      "Type1        150\n",
      "Type2         67\n",
      "Height       150\n",
      "Weight       150\n",
      "Legendary    150\n",
      "dtype: int64\n"
     ]
    }
   ],
   "source": [
    "print(df.count())"
   ]
  },
  {
   "cell_type": "code",
   "execution_count": 5,
   "id": "cc4e6763",
   "metadata": {},
   "outputs": [
    {
     "name": "stdout",
     "output_type": "stream",
     "text": [
      "1.2\n"
     ]
    }
   ],
   "source": [
    "#above we studied is for whole df now its for single col\n",
    "print(df['Height'].mean())"
   ]
  },
  {
   "cell_type": "code",
   "execution_count": 10,
   "id": "c9c99d92",
   "metadata": {},
   "outputs": [
    {
     "name": "stdout",
     "output_type": "stream",
     "text": [
      "Type1\n",
      "Bug         0.900000\n",
      "Dragon      2.666667\n",
      "Electric    0.855556\n",
      "Fairy       0.950000\n",
      "Fighting    1.185714\n",
      "Fire        1.216667\n",
      "Ghost       1.466667\n",
      "Grass       1.083333\n",
      "Ground      0.850000\n",
      "Ice         1.550000\n",
      "Normal      0.986364\n",
      "Poison      1.221429\n",
      "Psychic     1.371429\n",
      "Rock        1.844444\n",
      "Water       1.300000\n",
      "Name: Height, dtype: float64\n",
      "Type1\n",
      "Bug         1.5\n",
      "Dragon      4.0\n",
      "Electric    1.6\n",
      "Fairy       1.3\n",
      "Fighting    1.6\n",
      "Fire        2.0\n",
      "Ghost       1.6\n",
      "Grass       2.0\n",
      "Ground      1.9\n",
      "Ice         1.7\n",
      "Normal      2.2\n",
      "Poison      3.5\n",
      "Psychic     2.0\n",
      "Rock        8.8\n",
      "Water       6.5\n",
      "Name: Height, dtype: float64\n"
     ]
    }
   ],
   "source": [
    "grp = df.groupby('Type1')\n",
    "print(grp['Height'].mean())\n",
    "print(grp['Height'].max())"
   ]
  },
  {
   "cell_type": "code",
   "execution_count": 11,
   "id": "a8bf8da6",
   "metadata": {},
   "outputs": [
    {
     "name": "stdout",
     "output_type": "stream",
     "text": [
      "Type1\n",
      "Bug         12\n",
      "Dragon       3\n",
      "Electric     9\n",
      "Fairy        2\n",
      "Fighting     7\n",
      "Fire        12\n",
      "Ghost        3\n",
      "Grass       12\n",
      "Ground       8\n",
      "Ice          2\n",
      "Normal      22\n",
      "Poison      14\n",
      "Psychic      7\n",
      "Rock         9\n",
      "Water       28\n",
      "Name: Height, dtype: int64\n"
     ]
    }
   ],
   "source": [
    "print(grp['Height'].count())"
   ]
  }
 ],
 "metadata": {
  "kernelspec": {
   "display_name": "base",
   "language": "python",
   "name": "python3"
  },
  "language_info": {
   "codemirror_mode": {
    "name": "ipython",
    "version": 3
   },
   "file_extension": ".py",
   "mimetype": "text/x-python",
   "name": "python",
   "nbconvert_exporter": "python",
   "pygments_lexer": "ipython3",
   "version": "3.13.5"
  }
 },
 "nbformat": 4,
 "nbformat_minor": 5
}
